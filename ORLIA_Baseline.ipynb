{
  "nbformat": 4,
  "nbformat_minor": 0,
  "metadata": {
    "colab": {
      "name": "ORLIA-Baseline.ipynb",
      "provenance": [],
      "mount_file_id": "1XtCWCuNBg4M8BCj3Y7qt3wDIua9QhCpW",
      "authorship_tag": "ABX9TyPoweH5M+/84kqClevdHSz5",
      "include_colab_link": true
    },
    "kernelspec": {
      "name": "python3",
      "display_name": "Python 3"
    },
    "language_info": {
      "name": "python"
    }
  },
  "cells": [
    {
      "cell_type": "markdown",
      "metadata": {
        "id": "view-in-github",
        "colab_type": "text"
      },
      "source": [
        "<a href=\"https://colab.research.google.com/github/BurgundyIsAPublicEnemy/ORLIAn-source/blob/main/ORLIA_Baseline.ipynb\" target=\"_parent\"><img src=\"https://colab.research.google.com/assets/colab-badge.svg\" alt=\"Open In Colab\"/></a>"
      ]
    },
    {
      "cell_type": "code",
      "metadata": {
        "id": "JkfjI9dedBt8"
      },
      "source": [
        "IMAGEFILES = '/content/drive/MyDrive/Epidemium Season 3/ORLIAn /image_data/cellule inflamatoire 1'\n",
        "TABULARTRAINING = '/content/drive/MyDrive/Epidemium Season 3/ORLIAn /KORL_avatar_train.csv'"
      ],
      "execution_count": 12,
      "outputs": []
    },
    {
      "cell_type": "code",
      "metadata": {
        "colab": {
          "base_uri": "https://localhost:8080/"
        },
        "id": "NAcwcMDsdiyC",
        "outputId": "f1ec82c9-972e-4255-ab09-061a89c5df5c"
      },
      "source": [
        "import numpy as np # linear algebra\n",
        "import pandas as pd # data processing, CSV file I/O (e.g. pd.read_csv)\n",
        "from sklearn import preprocessing\n",
        "\n",
        "count = 0\n",
        "import os\n",
        "for dirname, _, filenames in os.walk(IMAGEFILES):\n",
        "    for filename in filenames:\n",
        "        count = count + 1\n",
        "print(count , \" files detected\")"
      ],
      "execution_count": 8,
      "outputs": [
        {
          "output_type": "stream",
          "name": "stdout",
          "text": [
            "1421  files detected\n"
          ]
        }
      ]
    },
    {
      "cell_type": "code",
      "metadata": {
        "id": "1FhJ_wLDdvov"
      },
      "source": [
        "train_df = pd.read_csv(TABULARTRAINING)"
      ],
      "execution_count": 9,
      "outputs": []
    },
    {
      "cell_type": "code",
      "metadata": {
        "colab": {
          "base_uri": "https://localhost:8080/",
          "height": 206
        },
        "id": "DUSGKuIUeQ_b",
        "outputId": "2eb2200c-ef4e-4b9c-fed3-bc1dfd6bc064"
      },
      "source": [
        "train_df.head()"
      ],
      "execution_count": 10,
      "outputs": [
        {
          "output_type": "execute_result",
          "data": {
            "text/html": [
              "<div>\n",
              "<style scoped>\n",
              "    .dataframe tbody tr th:only-of-type {\n",
              "        vertical-align: middle;\n",
              "    }\n",
              "\n",
              "    .dataframe tbody tr th {\n",
              "        vertical-align: top;\n",
              "    }\n",
              "\n",
              "    .dataframe thead th {\n",
              "        text-align: right;\n",
              "    }\n",
              "</style>\n",
              "<table border=\"1\" class=\"dataframe\">\n",
              "  <thead>\n",
              "    <tr style=\"text-align: right;\">\n",
              "      <th></th>\n",
              "      <th>Patient_ID</th>\n",
              "      <th>OMS</th>\n",
              "      <th>Sexe</th>\n",
              "      <th>Age</th>\n",
              "      <th>Date_biopsie</th>\n",
              "      <th>Age_diag</th>\n",
              "      <th>Date_derniere_nouvelles</th>\n",
              "      <th>Deces</th>\n",
              "      <th>Recidive</th>\n",
              "      <th>localisation</th>\n",
              "      <th>RNA_scope</th>\n",
              "      <th>T</th>\n",
              "      <th>N</th>\n",
              "      <th>M</th>\n",
              "      <th>Tabac</th>\n",
              "      <th>Alcool</th>\n",
              "      <th>OS</th>\n",
              "    </tr>\n",
              "  </thead>\n",
              "  <tbody>\n",
              "    <tr>\n",
              "      <th>0</th>\n",
              "      <td>824635</td>\n",
              "      <td>0</td>\n",
              "      <td>1</td>\n",
              "      <td>1965-05-11</td>\n",
              "      <td>2014-03-28</td>\n",
              "      <td>48</td>\n",
              "      <td>2019-11-06</td>\n",
              "      <td>0</td>\n",
              "      <td>0</td>\n",
              "      <td>Oropharynx</td>\n",
              "      <td>2</td>\n",
              "      <td>1</td>\n",
              "      <td>2a</td>\n",
              "      <td>0</td>\n",
              "      <td>3</td>\n",
              "      <td>1</td>\n",
              "      <td>61</td>\n",
              "    </tr>\n",
              "    <tr>\n",
              "      <th>1</th>\n",
              "      <td>829316</td>\n",
              "      <td>1</td>\n",
              "      <td>0</td>\n",
              "      <td>1942-12-06</td>\n",
              "      <td>2014-01-01</td>\n",
              "      <td>71</td>\n",
              "      <td>2018-01-09</td>\n",
              "      <td>1</td>\n",
              "      <td>0</td>\n",
              "      <td>Oropharynx</td>\n",
              "      <td>2</td>\n",
              "      <td>3</td>\n",
              "      <td>2b</td>\n",
              "      <td>0</td>\n",
              "      <td>0</td>\n",
              "      <td>1</td>\n",
              "      <td>56</td>\n",
              "    </tr>\n",
              "    <tr>\n",
              "      <th>2</th>\n",
              "      <td>82dfbb</td>\n",
              "      <td>1</td>\n",
              "      <td>1</td>\n",
              "      <td>1963-02-05</td>\n",
              "      <td>2012-03-28</td>\n",
              "      <td>48</td>\n",
              "      <td>2020-08-27</td>\n",
              "      <td>1</td>\n",
              "      <td>0</td>\n",
              "      <td>Oropharynx</td>\n",
              "      <td>1</td>\n",
              "      <td>4</td>\n",
              "      <td>2</td>\n",
              "      <td>0</td>\n",
              "      <td>0</td>\n",
              "      <td>1</td>\n",
              "      <td>101</td>\n",
              "    </tr>\n",
              "    <tr>\n",
              "      <th>3</th>\n",
              "      <td>832c5f</td>\n",
              "      <td>1</td>\n",
              "      <td>1</td>\n",
              "      <td>1957-11-27</td>\n",
              "      <td>2013-10-25</td>\n",
              "      <td>55</td>\n",
              "      <td>2014-10-25</td>\n",
              "      <td>1</td>\n",
              "      <td>1</td>\n",
              "      <td>Oropharynx</td>\n",
              "      <td>2</td>\n",
              "      <td>2</td>\n",
              "      <td>2b</td>\n",
              "      <td>0</td>\n",
              "      <td>2</td>\n",
              "      <td>1</td>\n",
              "      <td>12</td>\n",
              "    </tr>\n",
              "    <tr>\n",
              "      <th>4</th>\n",
              "      <td>837956</td>\n",
              "      <td>0</td>\n",
              "      <td>1</td>\n",
              "      <td>1959-03-15</td>\n",
              "      <td>2012-06-09</td>\n",
              "      <td>53</td>\n",
              "      <td>2021-04-06</td>\n",
              "      <td>0</td>\n",
              "      <td>0</td>\n",
              "      <td>Oropharynx</td>\n",
              "      <td>1</td>\n",
              "      <td>4</td>\n",
              "      <td>1</td>\n",
              "      <td>0</td>\n",
              "      <td>3</td>\n",
              "      <td>1</td>\n",
              "      <td>103</td>\n",
              "    </tr>\n",
              "  </tbody>\n",
              "</table>\n",
              "</div>"
            ],
            "text/plain": [
              "  Patient_ID  OMS  Sexe         Age Date_biopsie  ...   N  M  Tabac  Alcool   OS\n",
              "0     824635    0     1  1965-05-11   2014-03-28  ...  2a  0      3       1   61\n",
              "1     829316    1     0  1942-12-06   2014-01-01  ...  2b  0      0       1   56\n",
              "2     82dfbb    1     1  1963-02-05   2012-03-28  ...   2  0      0       1  101\n",
              "3     832c5f    1     1  1957-11-27   2013-10-25  ...  2b  0      2       1   12\n",
              "4     837956    0     1  1959-03-15   2012-06-09  ...   1  0      3       1  103\n",
              "\n",
              "[5 rows x 17 columns]"
            ]
          },
          "metadata": {},
          "execution_count": 10
        }
      ]
    },
    {
      "cell_type": "code",
      "metadata": {
        "colab": {
          "base_uri": "https://localhost:8080/",
          "height": 300
        },
        "id": "hoU-642meTKW",
        "outputId": "6739ad3a-20ba-4b55-ffca-301694563908"
      },
      "source": [
        "train_df.describe()"
      ],
      "execution_count": 11,
      "outputs": [
        {
          "output_type": "execute_result",
          "data": {
            "text/html": [
              "<div>\n",
              "<style scoped>\n",
              "    .dataframe tbody tr th:only-of-type {\n",
              "        vertical-align: middle;\n",
              "    }\n",
              "\n",
              "    .dataframe tbody tr th {\n",
              "        vertical-align: top;\n",
              "    }\n",
              "\n",
              "    .dataframe thead th {\n",
              "        text-align: right;\n",
              "    }\n",
              "</style>\n",
              "<table border=\"1\" class=\"dataframe\">\n",
              "  <thead>\n",
              "    <tr style=\"text-align: right;\">\n",
              "      <th></th>\n",
              "      <th>OMS</th>\n",
              "      <th>Sexe</th>\n",
              "      <th>Age_diag</th>\n",
              "      <th>Deces</th>\n",
              "      <th>Recidive</th>\n",
              "      <th>RNA_scope</th>\n",
              "      <th>T</th>\n",
              "      <th>M</th>\n",
              "      <th>Tabac</th>\n",
              "      <th>Alcool</th>\n",
              "      <th>OS</th>\n",
              "    </tr>\n",
              "  </thead>\n",
              "  <tbody>\n",
              "    <tr>\n",
              "      <th>count</th>\n",
              "      <td>47.000000</td>\n",
              "      <td>47.000000</td>\n",
              "      <td>47.000000</td>\n",
              "      <td>47.000000</td>\n",
              "      <td>47.000000</td>\n",
              "      <td>47.000000</td>\n",
              "      <td>47.00000</td>\n",
              "      <td>47.000000</td>\n",
              "      <td>47.000000</td>\n",
              "      <td>47.000000</td>\n",
              "      <td>47.00000</td>\n",
              "    </tr>\n",
              "    <tr>\n",
              "      <th>mean</th>\n",
              "      <td>0.893617</td>\n",
              "      <td>0.829787</td>\n",
              "      <td>61.212766</td>\n",
              "      <td>0.297872</td>\n",
              "      <td>0.212766</td>\n",
              "      <td>1.531915</td>\n",
              "      <td>3.06383</td>\n",
              "      <td>0.063830</td>\n",
              "      <td>1.638298</td>\n",
              "      <td>0.978723</td>\n",
              "      <td>47.12766</td>\n",
              "    </tr>\n",
              "    <tr>\n",
              "      <th>std</th>\n",
              "      <td>0.840136</td>\n",
              "      <td>0.379883</td>\n",
              "      <td>10.127312</td>\n",
              "      <td>0.462267</td>\n",
              "      <td>0.413688</td>\n",
              "      <td>0.584252</td>\n",
              "      <td>1.00875</td>\n",
              "      <td>0.247092</td>\n",
              "      <td>1.358156</td>\n",
              "      <td>0.145865</td>\n",
              "      <td>30.09739</td>\n",
              "    </tr>\n",
              "    <tr>\n",
              "      <th>min</th>\n",
              "      <td>0.000000</td>\n",
              "      <td>0.000000</td>\n",
              "      <td>47.000000</td>\n",
              "      <td>0.000000</td>\n",
              "      <td>0.000000</td>\n",
              "      <td>0.000000</td>\n",
              "      <td>1.00000</td>\n",
              "      <td>0.000000</td>\n",
              "      <td>0.000000</td>\n",
              "      <td>0.000000</td>\n",
              "      <td>1.00000</td>\n",
              "    </tr>\n",
              "    <tr>\n",
              "      <th>25%</th>\n",
              "      <td>0.000000</td>\n",
              "      <td>1.000000</td>\n",
              "      <td>53.500000</td>\n",
              "      <td>0.000000</td>\n",
              "      <td>0.000000</td>\n",
              "      <td>1.000000</td>\n",
              "      <td>2.00000</td>\n",
              "      <td>0.000000</td>\n",
              "      <td>0.000000</td>\n",
              "      <td>1.000000</td>\n",
              "      <td>19.00000</td>\n",
              "    </tr>\n",
              "    <tr>\n",
              "      <th>50%</th>\n",
              "      <td>1.000000</td>\n",
              "      <td>1.000000</td>\n",
              "      <td>58.000000</td>\n",
              "      <td>0.000000</td>\n",
              "      <td>0.000000</td>\n",
              "      <td>2.000000</td>\n",
              "      <td>3.00000</td>\n",
              "      <td>0.000000</td>\n",
              "      <td>2.000000</td>\n",
              "      <td>1.000000</td>\n",
              "      <td>56.00000</td>\n",
              "    </tr>\n",
              "    <tr>\n",
              "      <th>75%</th>\n",
              "      <td>1.000000</td>\n",
              "      <td>1.000000</td>\n",
              "      <td>69.000000</td>\n",
              "      <td>1.000000</td>\n",
              "      <td>0.000000</td>\n",
              "      <td>2.000000</td>\n",
              "      <td>4.00000</td>\n",
              "      <td>0.000000</td>\n",
              "      <td>3.000000</td>\n",
              "      <td>1.000000</td>\n",
              "      <td>72.00000</td>\n",
              "    </tr>\n",
              "    <tr>\n",
              "      <th>max</th>\n",
              "      <td>3.000000</td>\n",
              "      <td>1.000000</td>\n",
              "      <td>83.000000</td>\n",
              "      <td>1.000000</td>\n",
              "      <td>1.000000</td>\n",
              "      <td>2.000000</td>\n",
              "      <td>4.00000</td>\n",
              "      <td>1.000000</td>\n",
              "      <td>3.000000</td>\n",
              "      <td>1.000000</td>\n",
              "      <td>103.00000</td>\n",
              "    </tr>\n",
              "  </tbody>\n",
              "</table>\n",
              "</div>"
            ],
            "text/plain": [
              "             OMS       Sexe   Age_diag  ...      Tabac     Alcool         OS\n",
              "count  47.000000  47.000000  47.000000  ...  47.000000  47.000000   47.00000\n",
              "mean    0.893617   0.829787  61.212766  ...   1.638298   0.978723   47.12766\n",
              "std     0.840136   0.379883  10.127312  ...   1.358156   0.145865   30.09739\n",
              "min     0.000000   0.000000  47.000000  ...   0.000000   0.000000    1.00000\n",
              "25%     0.000000   1.000000  53.500000  ...   0.000000   1.000000   19.00000\n",
              "50%     1.000000   1.000000  58.000000  ...   2.000000   1.000000   56.00000\n",
              "75%     1.000000   1.000000  69.000000  ...   3.000000   1.000000   72.00000\n",
              "max     3.000000   1.000000  83.000000  ...   3.000000   1.000000  103.00000\n",
              "\n",
              "[8 rows x 11 columns]"
            ]
          },
          "metadata": {},
          "execution_count": 11
        }
      ]
    },
    {
      "cell_type": "markdown",
      "metadata": {
        "id": "8WYmWSnYfrQ5"
      },
      "source": [
        "# KNN APPROACH\n"
      ]
    },
    {
      "cell_type": "code",
      "metadata": {
        "id": "B9xJEreffqmS"
      },
      "source": [
        "# Create the Numpy Dataset with Features\n"
      ],
      "execution_count": null,
      "outputs": []
    },
    {
      "cell_type": "markdown",
      "metadata": {
        "id": "q0m1kHOYf4rw"
      },
      "source": [
        "# CNN APPROACH"
      ]
    }
  ]
}