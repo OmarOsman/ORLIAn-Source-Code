{
 "cells": [
  {
   "cell_type": "code",
   "execution_count": 2,
   "id": "detailed-captain",
   "metadata": {},
   "outputs": [
    {
     "name": "stdout",
     "output_type": "stream",
     "text": [
      "Requirement already satisfied: xgboost in /home/vikram/.local/lib/python3.8/site-packages (1.5.0)\n",
      "Requirement already satisfied: scipy in /home/vikram/.local/lib/python3.8/site-packages (from xgboost) (1.7.2)\n",
      "Requirement already satisfied: numpy in /home/vikram/.local/lib/python3.8/site-packages (from xgboost) (1.20.1)\n",
      "Requirement already satisfied: keras in /home/vikram/.local/lib/python3.8/site-packages (2.7.0)\n",
      "Requirement already satisfied: tensorflow in /home/vikram/.local/lib/python3.8/site-packages (2.7.0)\n",
      "Requirement already satisfied: protobuf>=3.9.2 in /home/vikram/.local/lib/python3.8/site-packages (from tensorflow) (3.19.1)\n",
      "Requirement already satisfied: wrapt>=1.11.0 in /home/vikram/.local/lib/python3.8/site-packages (from tensorflow) (1.13.3)\n",
      "Requirement already satisfied: grpcio<2.0,>=1.24.3 in /home/vikram/.local/lib/python3.8/site-packages (from tensorflow) (1.41.1)\n",
      "Requirement already satisfied: tensorflow-io-gcs-filesystem>=0.21.0 in /home/vikram/.local/lib/python3.8/site-packages (from tensorflow) (0.22.0)\n",
      "Requirement already satisfied: numpy>=1.14.5 in /home/vikram/.local/lib/python3.8/site-packages (from tensorflow) (1.20.1)\n",
      "Requirement already satisfied: wheel<1.0,>=0.32.0 in /usr/lib/python3/dist-packages (from tensorflow) (0.34.2)\n",
      "Requirement already satisfied: libclang>=9.0.1 in /home/vikram/.local/lib/python3.8/site-packages (from tensorflow) (12.0.0)\n",
      "Requirement already satisfied: google-pasta>=0.1.1 in /home/vikram/.local/lib/python3.8/site-packages (from tensorflow) (0.2.0)\n",
      "Requirement already satisfied: flatbuffers<3.0,>=1.12 in /home/vikram/.local/lib/python3.8/site-packages (from tensorflow) (2.0)\n",
      "Requirement already satisfied: termcolor>=1.1.0 in /home/vikram/.local/lib/python3.8/site-packages (from tensorflow) (1.1.0)\n",
      "Requirement already satisfied: six>=1.12.0 in /usr/lib/python3/dist-packages (from tensorflow) (1.14.0)\n",
      "Requirement already satisfied: absl-py>=0.4.0 in /home/vikram/.local/lib/python3.8/site-packages (from tensorflow) (1.0.0)\n",
      "Requirement already satisfied: tensorflow-estimator<2.8,~=2.7.0rc0 in /home/vikram/.local/lib/python3.8/site-packages (from tensorflow) (2.7.0)\n",
      "Requirement already satisfied: tensorboard~=2.6 in /home/vikram/.local/lib/python3.8/site-packages (from tensorflow) (2.7.0)\n",
      "Requirement already satisfied: h5py>=2.9.0 in /home/vikram/.local/lib/python3.8/site-packages (from tensorflow) (3.5.0)\n",
      "Requirement already satisfied: keras-preprocessing>=1.1.1 in /home/vikram/.local/lib/python3.8/site-packages (from tensorflow) (1.1.2)\n",
      "Requirement already satisfied: gast<0.5.0,>=0.2.1 in /home/vikram/.local/lib/python3.8/site-packages (from tensorflow) (0.4.0)\n",
      "Requirement already satisfied: typing-extensions>=3.6.6 in /home/vikram/.local/lib/python3.8/site-packages (from tensorflow) (3.10.0.2)\n",
      "Requirement already satisfied: astunparse>=1.6.0 in /home/vikram/.local/lib/python3.8/site-packages (from tensorflow) (1.6.3)\n",
      "Requirement already satisfied: keras<2.8,>=2.7.0rc0 in /home/vikram/.local/lib/python3.8/site-packages (from tensorflow) (2.7.0)\n",
      "Requirement already satisfied: opt-einsum>=2.3.2 in /home/vikram/.local/lib/python3.8/site-packages (from tensorflow) (3.3.0)\n",
      "Requirement already satisfied: markdown>=2.6.8 in /usr/lib/python3/dist-packages (from tensorboard~=2.6->tensorflow) (3.1.1)\n",
      "Requirement already satisfied: requests<3,>=2.21.0 in /usr/lib/python3/dist-packages (from tensorboard~=2.6->tensorflow) (2.22.0)\n",
      "Requirement already satisfied: werkzeug>=0.11.15 in /home/vikram/.local/lib/python3.8/site-packages (from tensorboard~=2.6->tensorflow) (2.0.2)\n",
      "Requirement already satisfied: google-auth<3,>=1.6.3 in /home/vikram/.local/lib/python3.8/site-packages (from tensorboard~=2.6->tensorflow) (2.3.3)\n",
      "Requirement already satisfied: tensorboard-data-server<0.7.0,>=0.6.0 in /home/vikram/.local/lib/python3.8/site-packages (from tensorboard~=2.6->tensorflow) (0.6.1)\n",
      "Requirement already satisfied: tensorboard-plugin-wit>=1.6.0 in /home/vikram/.local/lib/python3.8/site-packages (from tensorboard~=2.6->tensorflow) (1.8.0)\n",
      "Requirement already satisfied: google-auth-oauthlib<0.5,>=0.4.1 in /home/vikram/.local/lib/python3.8/site-packages (from tensorboard~=2.6->tensorflow) (0.4.6)\n",
      "Requirement already satisfied: setuptools>=41.0.0 in /usr/lib/python3/dist-packages (from tensorboard~=2.6->tensorflow) (45.2.0)\n",
      "Requirement already satisfied: rsa<5,>=3.1.4; python_version >= \"3.6\" in /home/vikram/.local/lib/python3.8/site-packages (from google-auth<3,>=1.6.3->tensorboard~=2.6->tensorflow) (4.7.2)\n",
      "Requirement already satisfied: pyasn1-modules>=0.2.1 in /home/vikram/.local/lib/python3.8/site-packages (from google-auth<3,>=1.6.3->tensorboard~=2.6->tensorflow) (0.2.8)\n",
      "Requirement already satisfied: cachetools<5.0,>=2.0.0 in /home/vikram/.local/lib/python3.8/site-packages (from google-auth<3,>=1.6.3->tensorboard~=2.6->tensorflow) (4.2.4)\n",
      "Requirement already satisfied: requests-oauthlib>=0.7.0 in /home/vikram/.local/lib/python3.8/site-packages (from google-auth-oauthlib<0.5,>=0.4.1->tensorboard~=2.6->tensorflow) (1.3.0)\n",
      "Requirement already satisfied: pyasn1>=0.1.3 in /home/vikram/.local/lib/python3.8/site-packages (from rsa<5,>=3.1.4; python_version >= \"3.6\"->google-auth<3,>=1.6.3->tensorboard~=2.6->tensorflow) (0.4.8)\n",
      "Requirement already satisfied: oauthlib>=3.0.0 in /usr/lib/python3/dist-packages (from requests-oauthlib>=0.7.0->google-auth-oauthlib<0.5,>=0.4.1->tensorboard~=2.6->tensorflow) (3.1.0)\n"
     ]
    }
   ],
   "source": [
    "import sys\n",
    "\n",
    "!{sys.executable} -m pip install xgboost\n",
    "!{sys.executable} -m pip install keras\n",
    "!{sys.executable} -m pip install tensorflow"
   ]
  },
  {
   "cell_type": "code",
   "execution_count": 3,
   "id": "historic-fireplace",
   "metadata": {},
   "outputs": [],
   "source": [
    "TABULARTRAINING = 'KORL_avatar_train.csv'\n",
    "TABULARTEST = 'KORL_avatar_test_X.csv'\n",
    "IMAGELOCATION = r'.'"
   ]
  },
  {
   "cell_type": "code",
   "execution_count": 4,
   "id": "declared-blade",
   "metadata": {},
   "outputs": [],
   "source": [
    "import numpy as np\n",
    "import matplotlib.pylab as plt\n",
    "import cv2\n",
    "import pandas as pd\n",
    "\n",
    "%matplotlib inline"
   ]
  },
  {
   "cell_type": "code",
   "execution_count": 5,
   "id": "desirable-health",
   "metadata": {},
   "outputs": [],
   "source": [
    "# Load the tabular data for references\n",
    "# needed for appending\n",
    "\n",
    "train_df = pd.read_csv(TABULARTRAINING)"
   ]
  },
  {
   "cell_type": "code",
   "execution_count": 6,
   "id": "diverse-currency",
   "metadata": {},
   "outputs": [
    {
     "data": {
      "text/html": [
       "<div>\n",
       "<style scoped>\n",
       "    .dataframe tbody tr th:only-of-type {\n",
       "        vertical-align: middle;\n",
       "    }\n",
       "\n",
       "    .dataframe tbody tr th {\n",
       "        vertical-align: top;\n",
       "    }\n",
       "\n",
       "    .dataframe thead th {\n",
       "        text-align: right;\n",
       "    }\n",
       "</style>\n",
       "<table border=\"1\" class=\"dataframe\">\n",
       "  <thead>\n",
       "    <tr style=\"text-align: right;\">\n",
       "      <th></th>\n",
       "      <th>Patient_ID</th>\n",
       "      <th>OMS</th>\n",
       "      <th>Sexe</th>\n",
       "      <th>Age</th>\n",
       "      <th>Date_biopsie</th>\n",
       "      <th>Age_diag</th>\n",
       "      <th>Date_derniere_nouvelles</th>\n",
       "      <th>Deces</th>\n",
       "      <th>Recidive</th>\n",
       "      <th>localisation</th>\n",
       "      <th>RNA_scope</th>\n",
       "      <th>T</th>\n",
       "      <th>N</th>\n",
       "      <th>M</th>\n",
       "      <th>Tabac</th>\n",
       "      <th>Alcool</th>\n",
       "      <th>OS</th>\n",
       "    </tr>\n",
       "  </thead>\n",
       "  <tbody>\n",
       "    <tr>\n",
       "      <th>0</th>\n",
       "      <td>824635</td>\n",
       "      <td>0</td>\n",
       "      <td>1</td>\n",
       "      <td>1965-05-11</td>\n",
       "      <td>2014-03-28</td>\n",
       "      <td>48</td>\n",
       "      <td>2019-11-06</td>\n",
       "      <td>0</td>\n",
       "      <td>0</td>\n",
       "      <td>Oropharynx</td>\n",
       "      <td>2</td>\n",
       "      <td>1</td>\n",
       "      <td>2a</td>\n",
       "      <td>0</td>\n",
       "      <td>3</td>\n",
       "      <td>1</td>\n",
       "      <td>61</td>\n",
       "    </tr>\n",
       "    <tr>\n",
       "      <th>1</th>\n",
       "      <td>829316</td>\n",
       "      <td>1</td>\n",
       "      <td>0</td>\n",
       "      <td>1942-12-06</td>\n",
       "      <td>2014-01-01</td>\n",
       "      <td>71</td>\n",
       "      <td>2018-01-09</td>\n",
       "      <td>1</td>\n",
       "      <td>0</td>\n",
       "      <td>Oropharynx</td>\n",
       "      <td>2</td>\n",
       "      <td>3</td>\n",
       "      <td>2b</td>\n",
       "      <td>0</td>\n",
       "      <td>0</td>\n",
       "      <td>1</td>\n",
       "      <td>56</td>\n",
       "    </tr>\n",
       "    <tr>\n",
       "      <th>2</th>\n",
       "      <td>82dfbb</td>\n",
       "      <td>1</td>\n",
       "      <td>1</td>\n",
       "      <td>1963-02-05</td>\n",
       "      <td>2012-03-28</td>\n",
       "      <td>48</td>\n",
       "      <td>2020-08-27</td>\n",
       "      <td>1</td>\n",
       "      <td>0</td>\n",
       "      <td>Oropharynx</td>\n",
       "      <td>1</td>\n",
       "      <td>4</td>\n",
       "      <td>2</td>\n",
       "      <td>0</td>\n",
       "      <td>0</td>\n",
       "      <td>1</td>\n",
       "      <td>101</td>\n",
       "    </tr>\n",
       "    <tr>\n",
       "      <th>3</th>\n",
       "      <td>832c5f</td>\n",
       "      <td>1</td>\n",
       "      <td>1</td>\n",
       "      <td>1957-11-27</td>\n",
       "      <td>2013-10-25</td>\n",
       "      <td>55</td>\n",
       "      <td>2014-10-25</td>\n",
       "      <td>1</td>\n",
       "      <td>1</td>\n",
       "      <td>Oropharynx</td>\n",
       "      <td>2</td>\n",
       "      <td>2</td>\n",
       "      <td>2b</td>\n",
       "      <td>0</td>\n",
       "      <td>2</td>\n",
       "      <td>1</td>\n",
       "      <td>12</td>\n",
       "    </tr>\n",
       "    <tr>\n",
       "      <th>4</th>\n",
       "      <td>837956</td>\n",
       "      <td>0</td>\n",
       "      <td>1</td>\n",
       "      <td>1959-03-15</td>\n",
       "      <td>2012-06-09</td>\n",
       "      <td>53</td>\n",
       "      <td>2021-04-06</td>\n",
       "      <td>0</td>\n",
       "      <td>0</td>\n",
       "      <td>Oropharynx</td>\n",
       "      <td>1</td>\n",
       "      <td>4</td>\n",
       "      <td>1</td>\n",
       "      <td>0</td>\n",
       "      <td>3</td>\n",
       "      <td>1</td>\n",
       "      <td>103</td>\n",
       "    </tr>\n",
       "  </tbody>\n",
       "</table>\n",
       "</div>"
      ],
      "text/plain": [
       "  Patient_ID  OMS  Sexe         Age Date_biopsie  Age_diag  \\\n",
       "0     824635    0     1  1965-05-11   2014-03-28        48   \n",
       "1     829316    1     0  1942-12-06   2014-01-01        71   \n",
       "2     82dfbb    1     1  1963-02-05   2012-03-28        48   \n",
       "3     832c5f    1     1  1957-11-27   2013-10-25        55   \n",
       "4     837956    0     1  1959-03-15   2012-06-09        53   \n",
       "\n",
       "  Date_derniere_nouvelles  Deces  Recidive localisation  RNA_scope  T   N  M  \\\n",
       "0              2019-11-06      0         0   Oropharynx          2  1  2a  0   \n",
       "1              2018-01-09      1         0   Oropharynx          2  3  2b  0   \n",
       "2              2020-08-27      1         0   Oropharynx          1  4   2  0   \n",
       "3              2014-10-25      1         1   Oropharynx          2  2  2b  0   \n",
       "4              2021-04-06      0         0   Oropharynx          1  4   1  0   \n",
       "\n",
       "   Tabac  Alcool   OS  \n",
       "0      3       1   61  \n",
       "1      0       1   56  \n",
       "2      0       1  101  \n",
       "3      2       1   12  \n",
       "4      3       1  103  "
      ]
     },
     "execution_count": 6,
     "metadata": {},
     "output_type": "execute_result"
    }
   ],
   "source": [
    "train_df.head()"
   ]
  },
  {
   "cell_type": "code",
   "execution_count": 7,
   "id": "detected-dependence",
   "metadata": {
    "scrolled": true
   },
   "outputs": [
    {
     "name": "stdout",
     "output_type": "stream",
     "text": [
      "[78, 103, 25, 28, 67, 62, 81, 66, 50, 26, 29, 67, 8, 101, 4, 50, 21, 62, 71, 13, 5, 75, 48, 80, 29, 77, 48, 7, 4, 8, 81, 78, 4, 78, 19, 21, 75, 19, 1, 81, 7, 46, 8, 12, 65, 80, 26, 68, 26, 82, 82, 27, 19, 67, 28, 25, 27, 80, 71, 62, 46, 78, 101, 65, 4, 81, 66, 19, 25, 56, 19, 26, 71, 15, 103, 21, 1, 80, 66, 75, 19, 75, 67, 46, 62, 8, 101, 80, 77, 4, 28, 82, 82, 78, 50, 29, 65, 68, 81, 67, 103, 19, 27, 80, 67, 19, 66, 25, 101, 77, 19, 12, 28, 78, 12, 19, 81, 1, 80, 103, 48, 13, 67, 78, 1, 80, 81, 81, 21, 67, 12, 77, 29, 46, 27, 65, 50, 48]\n"
     ]
    }
   ],
   "source": [
    "# Convert the images into a numpy data\n",
    "    \n",
    "from PIL import Image\n",
    "from numpy import asarray\n",
    "import os\n",
    "\n",
    "path = IMAGELOCATION\n",
    "list_of_files = []\n",
    "\n",
    "\n",
    "for root, dirs, files in os.walk(path):\n",
    "    for file in files:\n",
    "        list_of_files.append(os.path.join(root,file))\n",
    "        \n",
    "l = []\n",
    "m = None\n",
    "n = 0\n",
    "Y = []\n",
    "YDead = []\n",
    "for name in list_of_files:\n",
    "    # load the image and convert into \n",
    "    # numpy array\n",
    "    try:\n",
    "        img = Image.open(name)\n",
    "        numpydata = asarray(img)\n",
    "        \n",
    "        \n",
    "        \n",
    "        # Connect the meta data here\n",
    "        Y.append(((train_df.loc[train_df['Patient_ID'] == (name.split('_')[0].split('/')[2])])['OS']).item())\n",
    "        YDead.append(((train_df.loc[train_df['Patient_ID'] == (name.split('_')[0].split('/')[2])])['Deces']).item())\n",
    "\n",
    "        l.append(numpydata)\n",
    "    except Exception as e:\n",
    "        pass\n",
    "\n",
    "\n",
    "arr = np.array(l)\n",
    "\n",
    "print(Y)\n",
    "\n",
    "#DESIRED: [(x, 1404, 1872, 3]"
   ]
  },
  {
   "cell_type": "code",
   "execution_count": 8,
   "id": "welsh-sunset",
   "metadata": {},
   "outputs": [],
   "source": [
    "Y = np.asarray(Y)\n",
    "YDead = np.asarray(YDead)"
   ]
  },
  {
   "cell_type": "code",
   "execution_count": 9,
   "id": "exclusive-holmes",
   "metadata": {},
   "outputs": [
    {
     "name": "stdout",
     "output_type": "stream",
     "text": [
      "[ 78 103  25  28  67  62  81  66  50  26  29  67   8 101   4  50  21  62\n",
      "  71  13   5  75  48  80  29  77  48   7   4   8  81  78   4  78  19  21\n",
      "  75  19   1  81   7  46   8  12  65  80  26  68  26  82  82  27  19  67\n",
      "  28  25  27  80  71  62  46  78 101  65   4  81  66  19  25  56  19  26\n",
      "  71  15 103  21   1  80  66  75  19  75  67  46  62   8 101  80  77   4\n",
      "  28  82  82  78  50  29  65  68  81  67 103  19  27  80  67  19  66  25\n",
      " 101  77  19  12  28  78  12  19  81   1  80 103  48  13  67  78   1  80\n",
      "  81  81  21  67  12  77  29  46  27  65  50  48]\n"
     ]
    }
   ],
   "source": [
    "print(Y)"
   ]
  },
  {
   "cell_type": "code",
   "execution_count": 10,
   "id": "muslim-lighter",
   "metadata": {},
   "outputs": [],
   "source": [
    "X = arr # images"
   ]
  },
  {
   "cell_type": "code",
   "execution_count": 11,
   "id": "looking-characterization",
   "metadata": {},
   "outputs": [
    {
     "name": "stdout",
     "output_type": "stream",
     "text": [
      "(138, 1404, 1872, 3)\n",
      "(138,)\n"
     ]
    }
   ],
   "source": [
    "print(X.shape)\n",
    "print(Y.shape)"
   ]
  },
  {
   "cell_type": "code",
   "execution_count": 12,
   "id": "virgin-latvia",
   "metadata": {},
   "outputs": [
    {
     "name": "stdout",
     "output_type": "stream",
     "text": [
      "Total number of images : 138\n",
      "Total number of LABELS : 138\n",
      "Image shape (number of rows, number of columns, channels RGB): (1404, 1872, 3)\n"
     ]
    }
   ],
   "source": [
    "# How many images ?\n",
    "\n",
    "print('Total number of images : {}'.format(len(X)))\n",
    "print('Total number of LABELS : {}'.format(len(Y)))\n",
    "\n",
    "# What is the size of the images ?\n",
    "\n",
    "print('Image shape (number of rows, number of columns, channels RGB): {}'.format(X[0].shape))"
   ]
  },
  {
   "cell_type": "code",
   "execution_count": 13,
   "id": "possible-appendix",
   "metadata": {},
   "outputs": [
    {
     "name": "stdout",
     "output_type": "stream",
     "text": [
      "(110, 1404, 1872, 3)\n",
      "(28, 1404, 1872, 3)\n",
      "(110,)\n",
      "(28,)\n"
     ]
    }
   ],
   "source": [
    "from sklearn.model_selection import train_test_split\n",
    "X_train, X_test, y_train, y_test = train_test_split(X, Y, test_size=0.2, random_state=42)\n",
    "print(X_train.shape)\n",
    "print(X_test.shape)\n",
    "print(y_train.shape)\n",
    "print(y_test.shape)"
   ]
  },
  {
   "cell_type": "markdown",
   "id": "referenced-dance",
   "metadata": {},
   "source": [
    "# BUILD FEATURES WITH RESNET50"
   ]
  },
  {
   "cell_type": "code",
   "execution_count": 14,
   "id": "active-router",
   "metadata": {},
   "outputs": [
    {
     "name": "stdout",
     "output_type": "stream",
     "text": [
      "5/5 [==============================] - 18s 4s/step\n"
     ]
    }
   ],
   "source": [
    "from keras.applications.resnet import ResNet50, preprocess_input\n",
    "import cv2\n",
    "\n",
    "model = ResNet50(weights='imagenet', include_top=False, pooling='max')\n",
    "X_224 = np.array([cv2.resize(xi, (224, 224)) for xi in X])\n",
    "X_224 = preprocess_input(X_224.astype('float'))\n",
    "resnet_features = model.predict(X_224, verbose=1)"
   ]
  },
  {
   "cell_type": "code",
   "execution_count": 15,
   "id": "pediatric-shannon",
   "metadata": {},
   "outputs": [
    {
     "data": {
      "text/plain": [
       "(138, 2048)"
      ]
     },
     "execution_count": 15,
     "metadata": {},
     "output_type": "execute_result"
    }
   ],
   "source": [
    "resnet_features.shape"
   ]
  },
  {
   "cell_type": "markdown",
   "id": "demonstrated-answer",
   "metadata": {},
   "source": [
    "# BUILD WITH XGBOOST"
   ]
  },
  {
   "cell_type": "code",
   "execution_count": 16,
   "id": "turned-chrome",
   "metadata": {},
   "outputs": [],
   "source": [
    "# append meta data to the resnet features\n",
    "\n"
   ]
  },
  {
   "cell_type": "code",
   "execution_count": 17,
   "id": "varied-summit",
   "metadata": {},
   "outputs": [
    {
     "name": "stdout",
     "output_type": "stream",
     "text": [
      "(110, 2048)\n",
      "(28, 2048)\n",
      "(110,)\n",
      "(28,)\n",
      "XGBRegressor(base_score=None, booster='gbtree', colsample_bylevel=None,\n",
      "             colsample_bynode=None, colsample_bytree=None,\n",
      "             enable_categorical=False, gamma=None, gpu_id=None,\n",
      "             importance_type=None, interaction_constraints=None,\n",
      "             learning_rate=0.5, max_delta_step=None, max_depth=3,\n",
      "             min_child_weight=None, missing=nan, monotone_constraints=None,\n",
      "             n_estimators=500, n_jobs=None, num_parallel_tree=None,\n",
      "             objective='reg:linear', predictor=None, random_state=None,\n",
      "             reg_alpha=None, reg_lambda=None, scale_pos_weight=None,\n",
      "             subsample=None, tree_method=None, validate_parameters=None,\n",
      "             verbosity=None)\n",
      "[20:08:15] WARNING: ../src/objective/regression_obj.cu:188: reg:linear is now deprecated in favor of reg:squarederror.\n",
      "MAPE Value: 4.937155903139696\n",
      "[69.14985  35.104755 52.476925 52.21536  32.06187  57.169186 28.352459\n",
      " 32.583637 64.15156  22.56526  37.16516  35.0675   48.849686 75.66351\n",
      " 21.818933 49.045834 32.614845 68.592224 29.86174  46.538807 70.12553\n",
      " 40.355827 21.554415 31.422804 50.972034 64.604675 53.741783 65.46655 ]\n",
      "[ 29  80  27  67  81  80  19  27  77  78  81  19   7  29  46   1  50  65\n",
      "  50 103  81  48  25  67  81  68  81  75  46  26  78  19  77  62 101   4\n",
      "  66  56  67  62  66  46  82  21  19  29  66  12  19  67  19  12  50 101\n",
      " 103  28  62   1  71  28  81  78  78  12  28  82  65  26  68  78  65  75\n",
      "  78  82  46  71  28  26  77  80  67  80  21   4  29  62  65  48  19   8\n",
      "  25  21 103  19  75  25  80  80  67  81  80 103  13  48   5  26  66   4\n",
      "  82  27]\n"
     ]
    }
   ],
   "source": [
    "from xgboost import XGBRegressor\n",
    "from sklearn.model_selection import train_test_split\n",
    "X_train, X_test, y_train, y_test = train_test_split(resnet_features, Y, test_size=0.2, random_state=42)\n",
    "print(X_train.shape)\n",
    "print(X_test.shape)\n",
    "print(y_train.shape)\n",
    "print(y_test.shape)\n",
    "\n",
    "RegModel=XGBRegressor(max_depth=3, learning_rate=0.5, n_estimators=500, objective='reg:linear', booster='gbtree')\n",
    "\n",
    "#Printing all the parameters of XGBoost\n",
    "print(RegModel)\n",
    "\n",
    "#Creating the model on Training Data\n",
    "XGB=RegModel.fit(X_train,y_train)\n",
    "prediction=XGB.predict(X_test)\n",
    "prediction = np.absolute(prediction)\n",
    "\n",
    "#Measuring Goodness of fit in Training data\n",
    "from sklearn import metrics\n",
    "print('MAPE Value:',metrics.mean_absolute_percentage_error(y_test, prediction))\n",
    "\n",
    "#Measuring accuracy on Testing Data\n",
    "print(prediction)\n",
    "print(y_train)"
   ]
  },
  {
   "cell_type": "code",
   "execution_count": 18,
   "id": "fixed-backing",
   "metadata": {},
   "outputs": [],
   "source": [
    "!mkdir -p saved_model\n",
    "XGB.save_model(\"layer6.json\")"
   ]
  },
  {
   "cell_type": "code",
   "execution_count": null,
   "id": "continuous-waterproof",
   "metadata": {},
   "outputs": [],
   "source": []
  }
 ],
 "metadata": {
  "kernelspec": {
   "display_name": "Python 3",
   "language": "python",
   "name": "python3"
  },
  "language_info": {
   "codemirror_mode": {
    "name": "ipython",
    "version": 3
   },
   "file_extension": ".py",
   "mimetype": "text/x-python",
   "name": "python",
   "nbconvert_exporter": "python",
   "pygments_lexer": "ipython3",
   "version": "3.8.10"
  }
 },
 "nbformat": 4,
 "nbformat_minor": 5
}
