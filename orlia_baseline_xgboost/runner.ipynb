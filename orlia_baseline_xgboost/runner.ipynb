{
 "cells": [
  {
   "cell_type": "code",
   "execution_count": 3,
   "id": "difficult-devon",
   "metadata": {},
   "outputs": [
    {
     "ename": "XGBoostError",
     "evalue": "[20:30:16] ../src/common/io.cc:102: Opening segment_tissue_data/layer7.json failed: No such file or directory\nStack trace:\n  [bt] (0) /home/vikram/.local/lib/python3.8/site-packages/xgboost/lib/libxgboost.so(+0xc8c4d) [0x7fb3f6ffac4d]\n  [bt] (1) /home/vikram/.local/lib/python3.8/site-packages/xgboost/lib/libxgboost.so(+0xc923a) [0x7fb3f6ffb23a]\n  [bt] (2) /home/vikram/.local/lib/python3.8/site-packages/xgboost/lib/libxgboost.so(XGBoosterLoadModel+0x379) [0x7fb3f6fd0939]\n  [bt] (3) /lib/x86_64-linux-gnu/libffi.so.7(+0x6ff5) [0x7fb458341ff5]\n  [bt] (4) /lib/x86_64-linux-gnu/libffi.so.7(+0x640a) [0x7fb45834140a]\n  [bt] (5) /usr/lib/python3.8/lib-dynload/_ctypes.cpython-38-x86_64-linux-gnu.so(_ctypes_callproc+0x5b6) [0x7fb45742d306]\n  [bt] (6) /usr/lib/python3.8/lib-dynload/_ctypes.cpython-38-x86_64-linux-gnu.so(+0x139dc) [0x7fb45742d9dc]\n  [bt] (7) /usr/bin/python3(_PyObject_MakeTpCall+0x29e) [0x5f698e]\n  [bt] (8) /usr/bin/python3(_PyEval_EvalFrameDefault+0x5dcb) [0x57148b]\n\n",
     "output_type": "error",
     "traceback": [
      "\u001b[0;31m---------------------------------------------------------------------------\u001b[0m",
      "\u001b[0;31mXGBoostError\u001b[0m                              Traceback (most recent call last)",
      "\u001b[0;32m<ipython-input-3-50ca610b48aa>\u001b[0m in \u001b[0;36m<module>\u001b[0;34m\u001b[0m\n\u001b[1;32m     20\u001b[0m \u001b[0;34m\u001b[0m\u001b[0m\n\u001b[1;32m     21\u001b[0m \u001b[0mmodel_xgb_7\u001b[0m \u001b[0;34m=\u001b[0m \u001b[0mxgb\u001b[0m\u001b[0;34m.\u001b[0m\u001b[0mBooster\u001b[0m\u001b[0;34m(\u001b[0m\u001b[0;34m)\u001b[0m\u001b[0;34m\u001b[0m\u001b[0;34m\u001b[0m\u001b[0m\n\u001b[0;32m---> 22\u001b[0;31m \u001b[0mmodel_xgb_7\u001b[0m\u001b[0;34m.\u001b[0m\u001b[0mload_model\u001b[0m\u001b[0;34m(\u001b[0m\u001b[0;34m\"segment_tissue_data/layer7.json\"\u001b[0m\u001b[0;34m)\u001b[0m\u001b[0;34m\u001b[0m\u001b[0;34m\u001b[0m\u001b[0m\n\u001b[0m",
      "\u001b[0;32m~/.local/lib/python3.8/site-packages/xgboost/core.py\u001b[0m in \u001b[0;36mload_model\u001b[0;34m(self, fname)\u001b[0m\n\u001b[1;32m   2159\u001b[0m             \u001b[0;31m# from URL.\u001b[0m\u001b[0;34m\u001b[0m\u001b[0;34m\u001b[0m\u001b[0;34m\u001b[0m\u001b[0m\n\u001b[1;32m   2160\u001b[0m             \u001b[0mfname\u001b[0m \u001b[0;34m=\u001b[0m \u001b[0mos\u001b[0m\u001b[0;34m.\u001b[0m\u001b[0mfspath\u001b[0m\u001b[0;34m(\u001b[0m\u001b[0mos\u001b[0m\u001b[0;34m.\u001b[0m\u001b[0mpath\u001b[0m\u001b[0;34m.\u001b[0m\u001b[0mexpanduser\u001b[0m\u001b[0;34m(\u001b[0m\u001b[0mfname\u001b[0m\u001b[0;34m)\u001b[0m\u001b[0;34m)\u001b[0m\u001b[0;34m\u001b[0m\u001b[0;34m\u001b[0m\u001b[0m\n\u001b[0;32m-> 2161\u001b[0;31m             _check_call(_LIB.XGBoosterLoadModel(\n\u001b[0m\u001b[1;32m   2162\u001b[0m                 self.handle, c_str(fname)))\n\u001b[1;32m   2163\u001b[0m         \u001b[0;32melif\u001b[0m \u001b[0misinstance\u001b[0m\u001b[0;34m(\u001b[0m\u001b[0mfname\u001b[0m\u001b[0;34m,\u001b[0m \u001b[0mbytearray\u001b[0m\u001b[0;34m)\u001b[0m\u001b[0;34m:\u001b[0m\u001b[0;34m\u001b[0m\u001b[0;34m\u001b[0m\u001b[0m\n",
      "\u001b[0;32m~/.local/lib/python3.8/site-packages/xgboost/core.py\u001b[0m in \u001b[0;36m_check_call\u001b[0;34m(ret)\u001b[0m\n\u001b[1;32m    216\u001b[0m     \"\"\"\n\u001b[1;32m    217\u001b[0m     \u001b[0;32mif\u001b[0m \u001b[0mret\u001b[0m \u001b[0;34m!=\u001b[0m \u001b[0;36m0\u001b[0m\u001b[0;34m:\u001b[0m\u001b[0;34m\u001b[0m\u001b[0;34m\u001b[0m\u001b[0m\n\u001b[0;32m--> 218\u001b[0;31m         \u001b[0;32mraise\u001b[0m \u001b[0mXGBoostError\u001b[0m\u001b[0;34m(\u001b[0m\u001b[0mpy_str\u001b[0m\u001b[0;34m(\u001b[0m\u001b[0m_LIB\u001b[0m\u001b[0;34m.\u001b[0m\u001b[0mXGBGetLastError\u001b[0m\u001b[0;34m(\u001b[0m\u001b[0;34m)\u001b[0m\u001b[0;34m)\u001b[0m\u001b[0;34m)\u001b[0m\u001b[0;34m\u001b[0m\u001b[0;34m\u001b[0m\u001b[0m\n\u001b[0m\u001b[1;32m    219\u001b[0m \u001b[0;34m\u001b[0m\u001b[0m\n\u001b[1;32m    220\u001b[0m \u001b[0;34m\u001b[0m\u001b[0m\n",
      "\u001b[0;31mXGBoostError\u001b[0m: [20:30:16] ../src/common/io.cc:102: Opening segment_tissue_data/layer7.json failed: No such file or directory\nStack trace:\n  [bt] (0) /home/vikram/.local/lib/python3.8/site-packages/xgboost/lib/libxgboost.so(+0xc8c4d) [0x7fb3f6ffac4d]\n  [bt] (1) /home/vikram/.local/lib/python3.8/site-packages/xgboost/lib/libxgboost.so(+0xc923a) [0x7fb3f6ffb23a]\n  [bt] (2) /home/vikram/.local/lib/python3.8/site-packages/xgboost/lib/libxgboost.so(XGBoosterLoadModel+0x379) [0x7fb3f6fd0939]\n  [bt] (3) /lib/x86_64-linux-gnu/libffi.so.7(+0x6ff5) [0x7fb458341ff5]\n  [bt] (4) /lib/x86_64-linux-gnu/libffi.so.7(+0x640a) [0x7fb45834140a]\n  [bt] (5) /usr/lib/python3.8/lib-dynload/_ctypes.cpython-38-x86_64-linux-gnu.so(_ctypes_callproc+0x5b6) [0x7fb45742d306]\n  [bt] (6) /usr/lib/python3.8/lib-dynload/_ctypes.cpython-38-x86_64-linux-gnu.so(+0x139dc) [0x7fb45742d9dc]\n  [bt] (7) /usr/bin/python3(_PyObject_MakeTpCall+0x29e) [0x5f698e]\n  [bt] (8) /usr/bin/python3(_PyEval_EvalFrameDefault+0x5dcb) [0x57148b]\n\n"
     ]
    }
   ],
   "source": [
    "import xgboost as xgb\n",
    "\n",
    "model_xgb_1 = xgb.Booster()\n",
    "model_xgb_1.load_model(\"cell1_data/layer1.json\")\n",
    "\n",
    "model_xgb_2 = xgb.Booster()\n",
    "model_xgb_2.load_model(\"cell2_data/layer2.json\")\n",
    "\n",
    "model_xgb_3 = xgb.Booster()\n",
    "model_xgb_3.load_model(\"cell3_data/layer3.json\")\n",
    "\n",
    "model_xgb_4 = xgb.Booster()\n",
    "model_xgb_4.load_model(\"cell4_data/layer4.json\")\n",
    "\n",
    "model_xgb_5 = xgb.Booster()\n",
    "model_xgb_5.load_model(\"cell5_data/layer5.json\")\n",
    "\n",
    "model_xgb_6 = xgb.Booster()\n",
    "model_xgb_6.load_model(\"cell6_data/layer6.json\")\n",
    "\n",
    "model_xgb_7 = xgb.Booster()\n",
    "model_xgb_7.load_model(\"segment_tissue_data/layer7.json\")\n"
   ]
  },
  {
   "cell_type": "code",
   "execution_count": null,
   "id": "interpreted-bradford",
   "metadata": {},
   "outputs": [],
   "source": []
  }
 ],
 "metadata": {
  "kernelspec": {
   "display_name": "Python 3",
   "language": "python",
   "name": "python3"
  },
  "language_info": {
   "codemirror_mode": {
    "name": "ipython",
    "version": 3
   },
   "file_extension": ".py",
   "mimetype": "text/x-python",
   "name": "python",
   "nbconvert_exporter": "python",
   "pygments_lexer": "ipython3",
   "version": "3.8.10"
  }
 },
 "nbformat": 4,
 "nbformat_minor": 5
}
