{
 "cells": [
  {
   "cell_type": "code",
   "execution_count": 9,
   "id": "detailed-captain",
   "metadata": {},
   "outputs": [
    {
     "name": "stdout",
     "output_type": "stream",
     "text": [
      "Requirement already satisfied: xgboost in /home/vikram/.local/lib/python3.8/site-packages (1.5.0)\n",
      "Requirement already satisfied: numpy in /home/vikram/.local/lib/python3.8/site-packages (from xgboost) (1.20.1)\n",
      "Requirement already satisfied: scipy in /home/vikram/.local/lib/python3.8/site-packages (from xgboost) (1.7.2)\n",
      "Requirement already satisfied: keras in /home/vikram/.local/lib/python3.8/site-packages (2.7.0)\n",
      "Requirement already satisfied: tensorflow in /home/vikram/.local/lib/python3.8/site-packages (2.7.0)\n",
      "Requirement already satisfied: six>=1.12.0 in /usr/lib/python3/dist-packages (from tensorflow) (1.14.0)\n",
      "Requirement already satisfied: gast<0.5.0,>=0.2.1 in /home/vikram/.local/lib/python3.8/site-packages (from tensorflow) (0.4.0)\n",
      "Requirement already satisfied: tensorflow-estimator<2.8,~=2.7.0rc0 in /home/vikram/.local/lib/python3.8/site-packages (from tensorflow) (2.7.0)\n",
      "Requirement already satisfied: opt-einsum>=2.3.2 in /home/vikram/.local/lib/python3.8/site-packages (from tensorflow) (3.3.0)\n",
      "Requirement already satisfied: tensorboard~=2.6 in /home/vikram/.local/lib/python3.8/site-packages (from tensorflow) (2.7.0)\n",
      "Requirement already satisfied: keras<2.8,>=2.7.0rc0 in /home/vikram/.local/lib/python3.8/site-packages (from tensorflow) (2.7.0)\n",
      "Requirement already satisfied: tensorflow-io-gcs-filesystem>=0.21.0 in /home/vikram/.local/lib/python3.8/site-packages (from tensorflow) (0.22.0)\n",
      "Requirement already satisfied: flatbuffers<3.0,>=1.12 in /home/vikram/.local/lib/python3.8/site-packages (from tensorflow) (2.0)\n",
      "Requirement already satisfied: grpcio<2.0,>=1.24.3 in /home/vikram/.local/lib/python3.8/site-packages (from tensorflow) (1.41.1)\n",
      "Requirement already satisfied: protobuf>=3.9.2 in /home/vikram/.local/lib/python3.8/site-packages (from tensorflow) (3.19.1)\n",
      "Requirement already satisfied: absl-py>=0.4.0 in /home/vikram/.local/lib/python3.8/site-packages (from tensorflow) (1.0.0)\n",
      "Requirement already satisfied: numpy>=1.14.5 in /home/vikram/.local/lib/python3.8/site-packages (from tensorflow) (1.20.1)\n",
      "Requirement already satisfied: libclang>=9.0.1 in /home/vikram/.local/lib/python3.8/site-packages (from tensorflow) (12.0.0)\n",
      "Requirement already satisfied: h5py>=2.9.0 in /home/vikram/.local/lib/python3.8/site-packages (from tensorflow) (3.5.0)\n",
      "Requirement already satisfied: google-pasta>=0.1.1 in /home/vikram/.local/lib/python3.8/site-packages (from tensorflow) (0.2.0)\n",
      "Requirement already satisfied: wheel<1.0,>=0.32.0 in /usr/lib/python3/dist-packages (from tensorflow) (0.34.2)\n",
      "Requirement already satisfied: keras-preprocessing>=1.1.1 in /home/vikram/.local/lib/python3.8/site-packages (from tensorflow) (1.1.2)\n",
      "Requirement already satisfied: wrapt>=1.11.0 in /home/vikram/.local/lib/python3.8/site-packages (from tensorflow) (1.13.3)\n",
      "Requirement already satisfied: astunparse>=1.6.0 in /home/vikram/.local/lib/python3.8/site-packages (from tensorflow) (1.6.3)\n",
      "Requirement already satisfied: typing-extensions>=3.6.6 in /home/vikram/.local/lib/python3.8/site-packages (from tensorflow) (3.10.0.2)\n",
      "Requirement already satisfied: termcolor>=1.1.0 in /home/vikram/.local/lib/python3.8/site-packages (from tensorflow) (1.1.0)\n",
      "Requirement already satisfied: google-auth-oauthlib<0.5,>=0.4.1 in /home/vikram/.local/lib/python3.8/site-packages (from tensorboard~=2.6->tensorflow) (0.4.6)\n",
      "Requirement already satisfied: google-auth<3,>=1.6.3 in /home/vikram/.local/lib/python3.8/site-packages (from tensorboard~=2.6->tensorflow) (2.3.3)\n",
      "Requirement already satisfied: werkzeug>=0.11.15 in /home/vikram/.local/lib/python3.8/site-packages (from tensorboard~=2.6->tensorflow) (2.0.2)\n",
      "Requirement already satisfied: tensorboard-plugin-wit>=1.6.0 in /home/vikram/.local/lib/python3.8/site-packages (from tensorboard~=2.6->tensorflow) (1.8.0)\n",
      "Requirement already satisfied: markdown>=2.6.8 in /usr/lib/python3/dist-packages (from tensorboard~=2.6->tensorflow) (3.1.1)\n",
      "Requirement already satisfied: requests<3,>=2.21.0 in /usr/lib/python3/dist-packages (from tensorboard~=2.6->tensorflow) (2.22.0)\n",
      "Requirement already satisfied: setuptools>=41.0.0 in /usr/lib/python3/dist-packages (from tensorboard~=2.6->tensorflow) (45.2.0)\n",
      "Requirement already satisfied: tensorboard-data-server<0.7.0,>=0.6.0 in /home/vikram/.local/lib/python3.8/site-packages (from tensorboard~=2.6->tensorflow) (0.6.1)\n",
      "Requirement already satisfied: requests-oauthlib>=0.7.0 in /home/vikram/.local/lib/python3.8/site-packages (from google-auth-oauthlib<0.5,>=0.4.1->tensorboard~=2.6->tensorflow) (1.3.0)\n",
      "Requirement already satisfied: cachetools<5.0,>=2.0.0 in /home/vikram/.local/lib/python3.8/site-packages (from google-auth<3,>=1.6.3->tensorboard~=2.6->tensorflow) (4.2.4)\n",
      "Requirement already satisfied: rsa<5,>=3.1.4; python_version >= \"3.6\" in /home/vikram/.local/lib/python3.8/site-packages (from google-auth<3,>=1.6.3->tensorboard~=2.6->tensorflow) (4.7.2)\n",
      "Requirement already satisfied: pyasn1-modules>=0.2.1 in /home/vikram/.local/lib/python3.8/site-packages (from google-auth<3,>=1.6.3->tensorboard~=2.6->tensorflow) (0.2.8)\n",
      "Requirement already satisfied: oauthlib>=3.0.0 in /usr/lib/python3/dist-packages (from requests-oauthlib>=0.7.0->google-auth-oauthlib<0.5,>=0.4.1->tensorboard~=2.6->tensorflow) (3.1.0)\n",
      "Requirement already satisfied: pyasn1>=0.1.3 in /home/vikram/.local/lib/python3.8/site-packages (from rsa<5,>=3.1.4; python_version >= \"3.6\"->google-auth<3,>=1.6.3->tensorboard~=2.6->tensorflow) (0.4.8)\n"
     ]
    }
   ],
   "source": [
    "import sys\n",
    "\n",
    "!{sys.executable} -m pip install xgboost\n",
    "!{sys.executable} -m pip install keras\n",
    "!{sys.executable} -m pip install tensorflow"
   ]
  },
  {
   "cell_type": "code",
   "execution_count": 10,
   "id": "historic-fireplace",
   "metadata": {},
   "outputs": [],
   "source": [
    "TABULARTRAINING = 'KORL_avatar_train.csv'\n",
    "TABULARTEST = 'KORL_avatar_test_X.csv'\n",
    "IMAGELOCATION = r'.'"
   ]
  },
  {
   "cell_type": "code",
   "execution_count": 11,
   "id": "declared-blade",
   "metadata": {},
   "outputs": [],
   "source": [
    "import numpy as np\n",
    "import matplotlib.pylab as plt\n",
    "import cv2\n",
    "import pandas as pd\n",
    "\n",
    "%matplotlib inline"
   ]
  },
  {
   "cell_type": "code",
   "execution_count": 12,
   "id": "desirable-health",
   "metadata": {},
   "outputs": [],
   "source": [
    "# Load the tabular data for references\n",
    "# needed for appending\n",
    "\n",
    "train_df = pd.read_csv(TABULARTRAINING)"
   ]
  },
  {
   "cell_type": "code",
   "execution_count": 13,
   "id": "diverse-currency",
   "metadata": {},
   "outputs": [
    {
     "data": {
      "text/html": [
       "<div>\n",
       "<style scoped>\n",
       "    .dataframe tbody tr th:only-of-type {\n",
       "        vertical-align: middle;\n",
       "    }\n",
       "\n",
       "    .dataframe tbody tr th {\n",
       "        vertical-align: top;\n",
       "    }\n",
       "\n",
       "    .dataframe thead th {\n",
       "        text-align: right;\n",
       "    }\n",
       "</style>\n",
       "<table border=\"1\" class=\"dataframe\">\n",
       "  <thead>\n",
       "    <tr style=\"text-align: right;\">\n",
       "      <th></th>\n",
       "      <th>Patient_ID</th>\n",
       "      <th>OMS</th>\n",
       "      <th>Sexe</th>\n",
       "      <th>Age</th>\n",
       "      <th>Date_biopsie</th>\n",
       "      <th>Age_diag</th>\n",
       "      <th>Date_derniere_nouvelles</th>\n",
       "      <th>Deces</th>\n",
       "      <th>Recidive</th>\n",
       "      <th>localisation</th>\n",
       "      <th>RNA_scope</th>\n",
       "      <th>T</th>\n",
       "      <th>N</th>\n",
       "      <th>M</th>\n",
       "      <th>Tabac</th>\n",
       "      <th>Alcool</th>\n",
       "      <th>OS</th>\n",
       "    </tr>\n",
       "  </thead>\n",
       "  <tbody>\n",
       "    <tr>\n",
       "      <th>0</th>\n",
       "      <td>824635</td>\n",
       "      <td>0</td>\n",
       "      <td>1</td>\n",
       "      <td>1965-05-11</td>\n",
       "      <td>2014-03-28</td>\n",
       "      <td>48</td>\n",
       "      <td>2019-11-06</td>\n",
       "      <td>0</td>\n",
       "      <td>0</td>\n",
       "      <td>Oropharynx</td>\n",
       "      <td>2</td>\n",
       "      <td>1</td>\n",
       "      <td>2a</td>\n",
       "      <td>0</td>\n",
       "      <td>3</td>\n",
       "      <td>1</td>\n",
       "      <td>61</td>\n",
       "    </tr>\n",
       "    <tr>\n",
       "      <th>1</th>\n",
       "      <td>829316</td>\n",
       "      <td>1</td>\n",
       "      <td>0</td>\n",
       "      <td>1942-12-06</td>\n",
       "      <td>2014-01-01</td>\n",
       "      <td>71</td>\n",
       "      <td>2018-01-09</td>\n",
       "      <td>1</td>\n",
       "      <td>0</td>\n",
       "      <td>Oropharynx</td>\n",
       "      <td>2</td>\n",
       "      <td>3</td>\n",
       "      <td>2b</td>\n",
       "      <td>0</td>\n",
       "      <td>0</td>\n",
       "      <td>1</td>\n",
       "      <td>56</td>\n",
       "    </tr>\n",
       "    <tr>\n",
       "      <th>2</th>\n",
       "      <td>82dfbb</td>\n",
       "      <td>1</td>\n",
       "      <td>1</td>\n",
       "      <td>1963-02-05</td>\n",
       "      <td>2012-03-28</td>\n",
       "      <td>48</td>\n",
       "      <td>2020-08-27</td>\n",
       "      <td>1</td>\n",
       "      <td>0</td>\n",
       "      <td>Oropharynx</td>\n",
       "      <td>1</td>\n",
       "      <td>4</td>\n",
       "      <td>2</td>\n",
       "      <td>0</td>\n",
       "      <td>0</td>\n",
       "      <td>1</td>\n",
       "      <td>101</td>\n",
       "    </tr>\n",
       "    <tr>\n",
       "      <th>3</th>\n",
       "      <td>832c5f</td>\n",
       "      <td>1</td>\n",
       "      <td>1</td>\n",
       "      <td>1957-11-27</td>\n",
       "      <td>2013-10-25</td>\n",
       "      <td>55</td>\n",
       "      <td>2014-10-25</td>\n",
       "      <td>1</td>\n",
       "      <td>1</td>\n",
       "      <td>Oropharynx</td>\n",
       "      <td>2</td>\n",
       "      <td>2</td>\n",
       "      <td>2b</td>\n",
       "      <td>0</td>\n",
       "      <td>2</td>\n",
       "      <td>1</td>\n",
       "      <td>12</td>\n",
       "    </tr>\n",
       "    <tr>\n",
       "      <th>4</th>\n",
       "      <td>837956</td>\n",
       "      <td>0</td>\n",
       "      <td>1</td>\n",
       "      <td>1959-03-15</td>\n",
       "      <td>2012-06-09</td>\n",
       "      <td>53</td>\n",
       "      <td>2021-04-06</td>\n",
       "      <td>0</td>\n",
       "      <td>0</td>\n",
       "      <td>Oropharynx</td>\n",
       "      <td>1</td>\n",
       "      <td>4</td>\n",
       "      <td>1</td>\n",
       "      <td>0</td>\n",
       "      <td>3</td>\n",
       "      <td>1</td>\n",
       "      <td>103</td>\n",
       "    </tr>\n",
       "  </tbody>\n",
       "</table>\n",
       "</div>"
      ],
      "text/plain": [
       "  Patient_ID  OMS  Sexe         Age Date_biopsie  Age_diag  \\\n",
       "0     824635    0     1  1965-05-11   2014-03-28        48   \n",
       "1     829316    1     0  1942-12-06   2014-01-01        71   \n",
       "2     82dfbb    1     1  1963-02-05   2012-03-28        48   \n",
       "3     832c5f    1     1  1957-11-27   2013-10-25        55   \n",
       "4     837956    0     1  1959-03-15   2012-06-09        53   \n",
       "\n",
       "  Date_derniere_nouvelles  Deces  Recidive localisation  RNA_scope  T   N  M  \\\n",
       "0              2019-11-06      0         0   Oropharynx          2  1  2a  0   \n",
       "1              2018-01-09      1         0   Oropharynx          2  3  2b  0   \n",
       "2              2020-08-27      1         0   Oropharynx          1  4   2  0   \n",
       "3              2014-10-25      1         1   Oropharynx          2  2  2b  0   \n",
       "4              2021-04-06      0         0   Oropharynx          1  4   1  0   \n",
       "\n",
       "   Tabac  Alcool   OS  \n",
       "0      3       1   61  \n",
       "1      0       1   56  \n",
       "2      0       1  101  \n",
       "3      2       1   12  \n",
       "4      3       1  103  "
      ]
     },
     "execution_count": 13,
     "metadata": {},
     "output_type": "execute_result"
    }
   ],
   "source": [
    "train_df.head()"
   ]
  },
  {
   "cell_type": "code",
   "execution_count": 16,
   "id": "detected-dependence",
   "metadata": {
    "scrolled": true
   },
   "outputs": [
    {
     "name": "stdout",
     "output_type": "stream",
     "text": [
      "[27, 78, 75, 103, 19, 25, 103, 21, 28, 19, 28, 67, 29, 1, 75, 62, 25, 8, 81, 66, 25, 4, 19, 50, 26, 29, 67, 8, 101, 46, 65, 46, 4, 80, 78, 50, 26, 25, 21, 56, 78, 81, 62, 71, 13, 5, 75, 48, 65, 21, 50, 81, 80, 29, 77, 48, 7, 75, 4, 81, 8, 4, 80, 81, 48, 78, 4, 48, 78, 19, 19, 21, 75, 19, 82, 66, 82, 62, 1, 81, 7, 46, 4, 8, 12, 27, 80, 65, 80, 26, 68, 28, 26, 67, 27, 71, 82, 82, 80, 27, 19, 67, 28, 7, 77, 25, 78, 27, 80, 66, 71, 62, 46, 78, 81, 101, 65, 82, 82, 4, 81, 66, 46, 19, 67, 62, 48, 67, 26, 25, 12, 8, 21, 56, 19, 26, 15, 71, 15, 78, 103, 21, 81, 1, 80, 101, 66, 75, 19, 19, 75, 5, 12, 68, 46, 62, 19, 46, 78, 19, 66, 29, 12, 71, 80, 8, 66, 101, 4, 77, 101, 80, 77, 4, 28, 82, 12, 82, 78, 28, 101, 50, 29, 65, 68, 1, 81, 65, 67, 26, 103, 81, 21, 27, 4, 13, 50, 19, 27, 80, 8, 25, 67, 1, 68, 77, 67, 67, 19, 103, 66, 28, 25, 78, 101, 29, 77, 19, 48, 12, 13, 77, 28, 62, 78, 12, 7, 29, 19, 103, 67, 81, 1, 67, 80, 103, 103, 48, 81, 1, 101, 13, 67, 19, 78, 1, 80, 81, 80, 81, 65, 19, 21, 67, 78, 12, 77, 50, 8, 62, 80, 29, 46, 26, 27, 75, 65, 71, 50, 80, 81, 50, 48]\n"
     ]
    }
   ],
   "source": [
    "# Convert the images into a numpy data\n",
    "    \n",
    "from PIL import Image\n",
    "from numpy import asarray\n",
    "import os\n",
    "import cv2\n",
    "\n",
    "path = IMAGELOCATION\n",
    "list_of_files = []\n",
    "\n",
    "\n",
    "for root, dirs, files in os.walk(path):\n",
    "    for file in files:\n",
    "        list_of_files.append(os.path.join(root,file))\n",
    "        \n",
    "l = []\n",
    "m = None\n",
    "n = 0\n",
    "Y = []\n",
    "YDead = []\n",
    "for name in list_of_files:\n",
    "    # load the image and convert into \n",
    "    # numpy array\n",
    "    try:\n",
    "        img = Image.open(name)\n",
    "        newsize = (150, 150)\n",
    "        img = img.resize(newsize)\n",
    "        \n",
    "        numpydata = asarray(img)\n",
    "        \n",
    "        \n",
    "        \n",
    "        # Connect the meta data here\n",
    "        Y.append(((train_df.loc[train_df['Patient_ID'] == (name.split('_')[0].split('/')[2])])['OS']).item())\n",
    "        YDead.append(((train_df.loc[train_df['Patient_ID'] == (name.split('_')[0].split('/')[2])])['Deces']).item())\n",
    "\n",
    "        l.append(numpydata)\n",
    "    except Exception as e:\n",
    "        pass\n",
    "\n",
    "\n",
    "arr = np.array(l)\n",
    "\n",
    "print(Y)\n",
    "\n",
    "#DESIRED: [(x, 1404, 1872, 3]"
   ]
  },
  {
   "cell_type": "code",
   "execution_count": 17,
   "id": "welsh-sunset",
   "metadata": {},
   "outputs": [],
   "source": [
    "Y = np.asarray(Y)\n",
    "YDead = np.asarray(YDead)"
   ]
  },
  {
   "cell_type": "code",
   "execution_count": 18,
   "id": "exclusive-holmes",
   "metadata": {},
   "outputs": [
    {
     "name": "stdout",
     "output_type": "stream",
     "text": [
      "[ 27  78  75 103  19  25 103  21  28  19  28  67  29   1  75  62  25   8\n",
      "  81  66  25   4  19  50  26  29  67   8 101  46  65  46   4  80  78  50\n",
      "  26  25  21  56  78  81  62  71  13   5  75  48  65  21  50  81  80  29\n",
      "  77  48   7  75   4  81   8   4  80  81  48  78   4  48  78  19  19  21\n",
      "  75  19  82  66  82  62   1  81   7  46   4   8  12  27  80  65  80  26\n",
      "  68  28  26  67  27  71  82  82  80  27  19  67  28   7  77  25  78  27\n",
      "  80  66  71  62  46  78  81 101  65  82  82   4  81  66  46  19  67  62\n",
      "  48  67  26  25  12   8  21  56  19  26  15  71  15  78 103  21  81   1\n",
      "  80 101  66  75  19  19  75   5  12  68  46  62  19  46  78  19  66  29\n",
      "  12  71  80   8  66 101   4  77 101  80  77   4  28  82  12  82  78  28\n",
      " 101  50  29  65  68   1  81  65  67  26 103  81  21  27   4  13  50  19\n",
      "  27  80   8  25  67   1  68  77  67  67  19 103  66  28  25  78 101  29\n",
      "  77  19  48  12  13  77  28  62  78  12   7  29  19 103  67  81   1  67\n",
      "  80 103 103  48  81   1 101  13  67  19  78   1  80  81  80  81  65  19\n",
      "  21  67  78  12  77  50   8  62  80  29  46  26  27  75  65  71  50  80\n",
      "  81  50  48]\n"
     ]
    }
   ],
   "source": [
    "print(Y)"
   ]
  },
  {
   "cell_type": "code",
   "execution_count": 21,
   "id": "muslim-lighter",
   "metadata": {},
   "outputs": [],
   "source": [
    "X = arr # images"
   ]
  },
  {
   "cell_type": "code",
   "execution_count": 22,
   "id": "looking-characterization",
   "metadata": {},
   "outputs": [
    {
     "name": "stdout",
     "output_type": "stream",
     "text": [
      "(273, 150, 150, 3)\n",
      "(273,)\n"
     ]
    }
   ],
   "source": [
    "print(X.shape)\n",
    "print(Y.shape)"
   ]
  },
  {
   "cell_type": "code",
   "execution_count": 23,
   "id": "virgin-latvia",
   "metadata": {},
   "outputs": [
    {
     "name": "stdout",
     "output_type": "stream",
     "text": [
      "Total number of images : 273\n",
      "Total number of LABELS : 273\n",
      "Image shape (number of rows, number of columns, channels RGB): (150, 150, 3)\n"
     ]
    }
   ],
   "source": [
    "# How many images ?\n",
    "\n",
    "print('Total number of images : {}'.format(len(X)))\n",
    "print('Total number of LABELS : {}'.format(len(Y)))\n",
    "\n",
    "# What is the size of the images ?\n",
    "\n",
    "print('Image shape (number of rows, number of columns, channels RGB): {}'.format(X[0].shape))"
   ]
  },
  {
   "cell_type": "code",
   "execution_count": 24,
   "id": "possible-appendix",
   "metadata": {},
   "outputs": [
    {
     "name": "stdout",
     "output_type": "stream",
     "text": [
      "(218, 150, 150, 3)\n",
      "(55, 150, 150, 3)\n",
      "(218,)\n",
      "(55,)\n"
     ]
    }
   ],
   "source": [
    "from sklearn.model_selection import train_test_split\n",
    "X_train, X_test, y_train, y_test = train_test_split(X, Y, test_size=0.2, random_state=42)\n",
    "print(X_train.shape)\n",
    "print(X_test.shape)\n",
    "print(y_train.shape)\n",
    "print(y_test.shape)"
   ]
  },
  {
   "cell_type": "markdown",
   "id": "referenced-dance",
   "metadata": {},
   "source": [
    "# BUILD FEATURES WITH RESNET50"
   ]
  },
  {
   "cell_type": "code",
   "execution_count": 25,
   "id": "active-router",
   "metadata": {},
   "outputs": [
    {
     "name": "stdout",
     "output_type": "stream",
     "text": [
      "9/9 [==============================] - 37s 4s/step\n"
     ]
    }
   ],
   "source": [
    "from keras.applications.resnet import ResNet50, preprocess_input\n",
    "import cv2\n",
    "\n",
    "model = ResNet50(weights='imagenet', include_top=False, pooling='max')\n",
    "X_224 = np.array([cv2.resize(xi, (224, 224)) for xi in X])\n",
    "X_224 = preprocess_input(X_224.astype('float'))\n",
    "resnet_features = model.predict(X_224, verbose=1)"
   ]
  },
  {
   "cell_type": "code",
   "execution_count": 26,
   "id": "pediatric-shannon",
   "metadata": {},
   "outputs": [
    {
     "data": {
      "text/plain": [
       "(273, 2048)"
      ]
     },
     "execution_count": 26,
     "metadata": {},
     "output_type": "execute_result"
    }
   ],
   "source": [
    "resnet_features.shape"
   ]
  },
  {
   "cell_type": "markdown",
   "id": "demonstrated-answer",
   "metadata": {},
   "source": [
    "# BUILD WITH XGBOOST"
   ]
  },
  {
   "cell_type": "code",
   "execution_count": null,
   "id": "turned-chrome",
   "metadata": {},
   "outputs": [],
   "source": [
    "# append meta data to the resnet features\n",
    "\n"
   ]
  },
  {
   "cell_type": "code",
   "execution_count": 27,
   "id": "varied-summit",
   "metadata": {},
   "outputs": [
    {
     "name": "stdout",
     "output_type": "stream",
     "text": [
      "(218, 2048)\n",
      "(55, 2048)\n",
      "(218,)\n",
      "(55,)\n",
      "XGBRegressor(base_score=None, booster='gbtree', colsample_bylevel=None,\n",
      "             colsample_bynode=None, colsample_bytree=None,\n",
      "             enable_categorical=False, gamma=None, gpu_id=None,\n",
      "             importance_type=None, interaction_constraints=None,\n",
      "             learning_rate=0.5, max_delta_step=None, max_depth=3,\n",
      "             min_child_weight=None, missing=nan, monotone_constraints=None,\n",
      "             n_estimators=500, n_jobs=None, num_parallel_tree=None,\n",
      "             objective='reg:linear', predictor=None, random_state=None,\n",
      "             reg_alpha=None, reg_lambda=None, scale_pos_weight=None,\n",
      "             subsample=None, tree_method=None, validate_parameters=None,\n",
      "             verbosity=None)\n",
      "[21:26:29] WARNING: ../src/objective/regression_obj.cu:188: reg:linear is now deprecated in favor of reg:squarederror.\n",
      "MAPE Value: 3.9666133136624473\n",
      "[31.339272  34.039566  78.952255  17.097267  11.807231  43.653507\n",
      " 31.170488  58.56009   31.743238  48.09578   86.57959   45.352757\n",
      " 56.663532  83.841896  50.646435  79.79184   47.833534  77.257195\n",
      " 72.275795  38.21857   67.05825   77.775604  40.853825  53.640396\n",
      " 52.53814   50.573532  44.53228   45.613304  27.497416  49.147774\n",
      " 60.41087   36.933594  57.026478  57.374363   3.1693592 71.58529\n",
      " 63.900337  60.542843  24.70578   31.604282  53.49496   65.3362\n",
      " 53.031868  38.20156   29.437265  41.33041   38.94294   45.41356\n",
      " 77.39144   28.070473  29.895102  31.884459  72.93344   55.27025\n",
      " 58.609447 ]\n",
      "[ 80  81  80  80  25  25  66  29  28  19   4 103   4  68  19  81  67  19\n",
      "  46  77  80  48  82  67  21  28  12  78  26  25  67  62   1  65  62  81\n",
      "  29  46   4  75  46  19  75  82  62   1  13  82  80  81  82  77  82  82\n",
      "  46  19   4 103  67  80  25  65   7  12  82  71  78  19  27  81  81  66\n",
      "  46  29  50 101  12  78  81  71  80  50  81  13  78  15  67  65  21  27\n",
      "  27  67  19 103  68  80  26   4  75  21  67  67  80  67   8 101  19  46\n",
      "   4   8  12 101  19  15  80  26  26  26  77  19  78  48  13  50  19  78\n",
      "  19  68  50   1  29  46  56  67  48  27  28  81  29  71 101 103   8 103\n",
      "  25  29  56  78  12   7  21  71   7  77  78   1  21  80  27  78  71  28\n",
      "   8  25  80  26  28   1  81  65   8   8  66  75  71  19  48  19  80  81\n",
      "  77  27  50 101  28  13  26  75  67  65  12  77   4  48  65  80 103  21\n",
      "   4  75   1  66  81  50  19  12   5  27  65 101  66  48  25  67  21  78\n",
      "  81  28]\n"
     ]
    }
   ],
   "source": [
    "from xgboost import XGBRegressor\n",
    "from sklearn.model_selection import train_test_split\n",
    "X_train, X_test, y_train, y_test = train_test_split(resnet_features, Y, test_size=0.2, random_state=42)\n",
    "print(X_train.shape)\n",
    "print(X_test.shape)\n",
    "print(y_train.shape)\n",
    "print(y_test.shape)\n",
    "\n",
    "RegModel=XGBRegressor(max_depth=3, learning_rate=0.5, n_estimators=500, objective='reg:linear', booster='gbtree')\n",
    "\n",
    "#Printing all the parameters of XGBoost\n",
    "print(RegModel)\n",
    "\n",
    "#Creating the model on Training Data\n",
    "XGB=RegModel.fit(X_train,y_train)\n",
    "prediction=XGB.predict(X_test)\n",
    "prediction = np.absolute(prediction)\n",
    "\n",
    "#Measuring Goodness of fit in Training data\n",
    "from sklearn import metrics\n",
    "print('MAPE Value:',metrics.mean_absolute_percentage_error(y_test, prediction))\n",
    "\n",
    "#Measuring accuracy on Testing Data\n",
    "print(prediction)\n",
    "print(y_train)"
   ]
  },
  {
   "cell_type": "code",
   "execution_count": 28,
   "id": "fixed-backing",
   "metadata": {},
   "outputs": [],
   "source": [
    "!mkdir -p saved_model\n",
    "XGB.save_model(\"layer7.json\")"
   ]
  },
  {
   "cell_type": "code",
   "execution_count": null,
   "id": "other-strategy",
   "metadata": {},
   "outputs": [],
   "source": []
  }
 ],
 "metadata": {
  "kernelspec": {
   "display_name": "Python 3",
   "language": "python",
   "name": "python3"
  },
  "language_info": {
   "codemirror_mode": {
    "name": "ipython",
    "version": 3
   },
   "file_extension": ".py",
   "mimetype": "text/x-python",
   "name": "python",
   "nbconvert_exporter": "python",
   "pygments_lexer": "ipython3",
   "version": "3.8.10"
  }
 },
 "nbformat": 4,
 "nbformat_minor": 5
}
